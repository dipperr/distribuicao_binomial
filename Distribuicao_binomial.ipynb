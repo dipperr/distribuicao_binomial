{
  "nbformat": 4,
  "nbformat_minor": 0,
  "metadata": {
    "colab": {
      "name": "Distribuicao_binomial.ipynb",
      "provenance": [],
      "collapsed_sections": []
    },
    "kernelspec": {
      "name": "python3",
      "display_name": "Python 3"
    },
    "language_info": {
      "name": "python"
    }
  },
  "cells": [
    {
      "cell_type": "markdown",
      "source": [
        "## <font color=red>Distribuição Binomial</font>"
      ],
      "metadata": {
        "id": "FMfmBN3zbqnL"
      }
    },
    {
      "cell_type": "markdown",
      "source": [
        "Um evento **binomial** é caracterizado pela possibilidade de ocorrência de apenas duas categorias. Estas categorias somadas representam todo o espaço amostral, sendo também mutuamente excludentes, ou seja, a ocorrência de uma implica na não ocorrência da outra.\n",
        "\n",
        "Em análises estatísticas o uso mais comum da distribuição binomial é na solução de problemas que envolvem situações de **sucesso** e **fracasso**."
      ],
      "metadata": {
        "id": "yXiwBJH4cHeP"
      }
    },
    {
      "cell_type": "markdown",
      "source": [
        "# $$P(k)=\\binom{n}{k} p^k q^{n-k}$$\n",
        "\n",
        "Onde:\n",
        "\n",
        "$p$ = probabilidade de sucesso\n",
        "\n",
        "$q = (1 - p)$ = probabilidade de fracasso\n",
        "\n",
        "$n$ = número de eventos estudados\n",
        "\n",
        "$k$ = número de eventos desejados que tenham sucesso"
      ],
      "metadata": {
        "id": "ymnjZIS3cL-A"
      }
    },
    {
      "cell_type": "markdown",
      "source": [
        "### Experimento Binomial"
      ],
      "metadata": {
        "id": "dm_00A0YcSlc"
      }
    },
    {
      "cell_type": "markdown",
      "source": [
        "1. Realização de $n$ ensaios idênticos.\n",
        "\n",
        "2. Os ensaios são independentes.\n",
        "\n",
        "3. Somente dois resultados são possíveis, exemplo: Verdadeiro ou falso; Cara ou coroa; Sucesso ou fracasso.\n",
        "\n",
        "4. A probabilidade de sucesso é representada por $p$ e a de fracasso por $1-p=q$. Estas probabilidades não se modificam de ensaio para ensaio."
      ],
      "metadata": {
        "id": "a4av5LABcXwz"
      }
    },
    {
      "cell_type": "markdown",
      "source": [
        "### Média da distribuição binomial"
      ],
      "metadata": {
        "id": "mcRpt0fhcgPW"
      }
    },
    {
      "cell_type": "markdown",
      "source": [
        "O valor esperado ou a média da distribuição binomial é igual ao número de experimentos realizados multiplicado pela chance de ocorrência do evento.\n",
        "\n",
        "# $$\\mu = n \\times p$$"
      ],
      "metadata": {
        "id": "xmc8DeIichEw"
      }
    },
    {
      "cell_type": "markdown",
      "source": [
        "### Desvio padrão da distribuição binomial"
      ],
      "metadata": {
        "id": "RmCpkDmNcjPf"
      }
    },
    {
      "cell_type": "markdown",
      "source": [
        "O desvio padrão é o produto entre o número de experimentos, a probabilidade de sucesso e a probabilidade de fracasso.\n",
        "\n",
        "# $$\\sigma = \\sqrt{n \\times p \\times q}$$"
      ],
      "metadata": {
        "id": "_K8rtQqEcmMR"
      }
    },
    {
      "cell_type": "markdown",
      "source": [
        "### Importando Bibliotecas"
      ],
      "metadata": {
        "id": "6Sx3a9kKcsxE"
      }
    },
    {
      "cell_type": "code",
      "execution_count": 37,
      "metadata": {
        "id": "sblSrZcSbjnH"
      },
      "outputs": [],
      "source": [
        "from scipy.special import comb\n",
        "from scipy.stats import binom\n",
        "import numpy as np\n",
        "import seaborn as sns"
      ]
    },
    {
      "cell_type": "markdown",
      "source": [
        "### Problemas"
      ],
      "metadata": {
        "id": "cteJCbJKeXZH"
      }
    },
    {
      "cell_type": "markdown",
      "source": [
        "### a. Qual a probabilidade de 3 caras em 5 lançamentos de uma moeda honesta?"
      ],
      "metadata": {
        "id": "FyOScRnoebKj"
      }
    },
    {
      "cell_type": "code",
      "source": [
        "comb(5, 3) * pow(0.5, 3) * pow(0.5, 2)"
      ],
      "metadata": {
        "colab": {
          "base_uri": "https://localhost:8080/"
        },
        "id": "RseEheUIeW6n",
        "outputId": "e1cb4a15-9d76-472d-9493-23ebdc492330"
      },
      "execution_count": 15,
      "outputs": [
        {
          "output_type": "execute_result",
          "data": {
            "text/plain": [
              "0.3125"
            ]
          },
          "metadata": {},
          "execution_count": 15
        }
      ]
    },
    {
      "cell_type": "code",
      "source": [
        "binom.pmf(3, 5, 0.5)\n"
      ],
      "metadata": {
        "colab": {
          "base_uri": "https://localhost:8080/"
        },
        "id": "BL5732kbeub7",
        "outputId": "084f4686-613d-43a9-b748-ce2e97fce569"
      },
      "execution_count": 16,
      "outputs": [
        {
          "output_type": "execute_result",
          "data": {
            "text/plain": [
              "0.3125"
            ]
          },
          "metadata": {},
          "execution_count": 16
        }
      ]
    },
    {
      "cell_type": "code",
      "source": [
        ""
      ],
      "metadata": {
        "id": "dg25wotyjMyi"
      },
      "execution_count": null,
      "outputs": []
    },
    {
      "cell_type": "markdown",
      "source": [
        "### b. Qual a probabilidade de menos que 3 caras em 5 lançamentos de uma moeda honesta?"
      ],
      "metadata": {
        "id": "qaUyle5shev6"
      }
    },
    {
      "cell_type": "code",
      "source": [
        "(comb(5, 0) * pow(0.5, 0) * pow(0.5, 5)) + (comb(5, 1) * pow(0.5, 1) * pow(0.5, 4)) + (comb(5, 2) * pow(0.5, 2) * pow(0.5, 3))"
      ],
      "metadata": {
        "colab": {
          "base_uri": "https://localhost:8080/"
        },
        "id": "9jriDwYqey83",
        "outputId": "182d7b5c-f881-449a-a062-8d298de7319b"
      },
      "execution_count": 18,
      "outputs": [
        {
          "output_type": "execute_result",
          "data": {
            "text/plain": [
              "0.5"
            ]
          },
          "metadata": {},
          "execution_count": 18
        }
      ]
    },
    {
      "cell_type": "code",
      "source": [
        "binom.cdf(2, 5, 0.5)"
      ],
      "metadata": {
        "colab": {
          "base_uri": "https://localhost:8080/"
        },
        "id": "F93eLJ-xe2Qo",
        "outputId": "75c84d2f-6966-45b0-d433-e296c020c0b8"
      },
      "execution_count": 20,
      "outputs": [
        {
          "output_type": "execute_result",
          "data": {
            "text/plain": [
              "0.5"
            ]
          },
          "metadata": {},
          "execution_count": 20
        }
      ]
    },
    {
      "cell_type": "markdown",
      "source": [
        "### c. Suponha que a probabilidade dos pais terem um filho(a) com cabelos loiros seja 1/4. Se houverem 6 crianças na familia, qual a probabilidade de metade delas terem cabelos loiros?"
      ],
      "metadata": {
        "id": "Hr1eRJKGjNxG"
      }
    },
    {
      "cell_type": "code",
      "source": [
        "comb(6, 3) * pow(0.25, 3) * pow(0.75, 3)"
      ],
      "metadata": {
        "colab": {
          "base_uri": "https://localhost:8080/"
        },
        "id": "975oicccjNcA",
        "outputId": "ca39b511-f3da-46df-de8d-5e2f696b0fe7"
      },
      "execution_count": 21,
      "outputs": [
        {
          "output_type": "execute_result",
          "data": {
            "text/plain": [
              "0.1318359375"
            ]
          },
          "metadata": {},
          "execution_count": 21
        }
      ]
    },
    {
      "cell_type": "code",
      "source": [
        "binom.pmf(3, 6, 0.25)"
      ],
      "metadata": {
        "colab": {
          "base_uri": "https://localhost:8080/"
        },
        "id": "UbfTOCHekQh7",
        "outputId": "94374b94-252b-44c6-a346-dc3b1d166071"
      },
      "execution_count": 22,
      "outputs": [
        {
          "output_type": "execute_result",
          "data": {
            "text/plain": [
              "0.13183593750000008"
            ]
          },
          "metadata": {},
          "execution_count": 22
        }
      ]
    },
    {
      "cell_type": "markdown",
      "source": [
        "### d. Se a probabilidade de atingir um alvo num único disparo é 0,3, qual a probabilidade de que em 4 disparos o alvo seja aingido no mínimo 3 vezes?"
      ],
      "metadata": {
        "id": "geG4FbAfk3JL"
      }
    },
    {
      "cell_type": "code",
      "source": [
        "(comb(4, 3) * pow(0.3, 3) * pow(0.7, 1)) + (comb(4, 4) * pow(0.3, 4) * pow(0.7, 0))"
      ],
      "metadata": {
        "colab": {
          "base_uri": "https://localhost:8080/"
        },
        "id": "9R10FqYukWbT",
        "outputId": "3054057b-f2ed-432d-a1ec-b1494f3c4502"
      },
      "execution_count": 23,
      "outputs": [
        {
          "output_type": "execute_result",
          "data": {
            "text/plain": [
              "0.08369999999999998"
            ]
          },
          "metadata": {},
          "execution_count": 23
        }
      ]
    },
    {
      "cell_type": "code",
      "source": [
        "binom.sf(2, 4, 0.3)"
      ],
      "metadata": {
        "colab": {
          "base_uri": "https://localhost:8080/"
        },
        "id": "v94insrIlzE_",
        "outputId": "6629dbd8-f42b-4b5e-fe2c-334dd8b4743b"
      },
      "execution_count": 25,
      "outputs": [
        {
          "output_type": "execute_result",
          "data": {
            "text/plain": [
              "0.08369999999999998"
            ]
          },
          "metadata": {},
          "execution_count": 25
        }
      ]
    },
    {
      "cell_type": "markdown",
      "source": [
        "### e. Um inspetor de qualidade extrai uma amostra de 10 tubos aleatoriamente de uma carga muito grande de tubos que se sabe que contém 20% de tubos defeituosos. Qual é a probabilidade de que não mais do que 2 tubos extraídos sejam defeituosos?"
      ],
      "metadata": {
        "id": "OBQr_zT6mKjy"
      }
    },
    {
      "cell_type": "code",
      "source": [
        "(comb(10, 0) * pow(0.2, 0) * pow(0.8, 10)) + (comb(10, 1) * pow(0.2, 1) * pow(0.8, 9)) + (comb(10, 2) * pow(0.2, 2) * pow(0.8, 8))"
      ],
      "metadata": {
        "colab": {
          "base_uri": "https://localhost:8080/"
        },
        "id": "Klg8iVr7mIn8",
        "outputId": "521ca1b2-a6bb-4525-e6b8-d9416102735f"
      },
      "execution_count": 26,
      "outputs": [
        {
          "output_type": "execute_result",
          "data": {
            "text/plain": [
              "0.6777995264000004"
            ]
          },
          "metadata": {},
          "execution_count": 26
        }
      ]
    },
    {
      "cell_type": "code",
      "source": [
        "binom.cdf(2, 10, 0.2)"
      ],
      "metadata": {
        "colab": {
          "base_uri": "https://localhost:8080/"
        },
        "id": "BejiwhncmBlP",
        "outputId": "9038ef64-b9dd-4641-9d60-1abac8cf211f"
      },
      "execution_count": 27,
      "outputs": [
        {
          "output_type": "execute_result",
          "data": {
            "text/plain": [
              "0.6777995264000001"
            ]
          },
          "metadata": {},
          "execution_count": 27
        }
      ]
    },
    {
      "cell_type": "markdown",
      "source": [
        "### f. Um engenheiro de inspeção extrai uma amostra de 15 itens aleatoriamente de um processo de fabricação sabido produzir 85% de itens aceitaveis. qual a probabilidade de que 10 dos itens extraídos sejam aceitáveis?"
      ],
      "metadata": {
        "id": "3e91fKwsnKVZ"
      }
    },
    {
      "cell_type": "code",
      "source": [
        "comb(15, 10) * pow(0.85, 10) * pow(0.15, 5)"
      ],
      "metadata": {
        "colab": {
          "base_uri": "https://localhost:8080/"
        },
        "id": "b9iJNoXBnnF2",
        "outputId": "df9032d1-c8bf-4d6b-a15b-8fd495bd4048"
      },
      "execution_count": 28,
      "outputs": [
        {
          "output_type": "execute_result",
          "data": {
            "text/plain": [
              "0.04489530068910972"
            ]
          },
          "metadata": {},
          "execution_count": 28
        }
      ]
    },
    {
      "cell_type": "code",
      "source": [
        "binom.pmf(10, 15, 0.85)"
      ],
      "metadata": {
        "colab": {
          "base_uri": "https://localhost:8080/"
        },
        "id": "XyFiSHHnoP9L",
        "outputId": "8e3f54a2-93c6-4892-e6a5-43afcd071e43"
      },
      "execution_count": 29,
      "outputs": [
        {
          "output_type": "execute_result",
          "data": {
            "text/plain": [
              "0.04489530068910986"
            ]
          },
          "metadata": {},
          "execution_count": 29
        }
      ]
    },
    {
      "cell_type": "code",
      "source": [
        "# uma outra maneira de obter o mesmo resultado seria calculando a probabilidade\n",
        "# de que 5 dos itens extraidos sejam defeituosos.\n",
        "binom.pmf(5, 15, 0.15)"
      ],
      "metadata": {
        "colab": {
          "base_uri": "https://localhost:8080/"
        },
        "id": "ULfP9ZzGoir7",
        "outputId": "67e7a4fc-40b8-4e63-d026-b885cf92991d"
      },
      "execution_count": 30,
      "outputs": [
        {
          "output_type": "execute_result",
          "data": {
            "text/plain": [
              "0.0448953006891098"
            ]
          },
          "metadata": {},
          "execution_count": 30
        }
      ]
    },
    {
      "cell_type": "markdown",
      "source": [
        "### g. Se 1 moeda honesta for lançada 4 vezes, calcule a distribuição de probabilidade completa e desenhe-a num gráfico."
      ],
      "metadata": {
        "id": "mgt6dto0pZNR"
      }
    },
    {
      "cell_type": "code",
      "source": [
        "y = np.array([binom.pmf(i, 4, 0.5) for i in range(5)]).round(3)\n",
        "y"
      ],
      "metadata": {
        "colab": {
          "base_uri": "https://localhost:8080/"
        },
        "id": "Gfwjwmxbps_a",
        "outputId": "1541fbf0-2433-4576-f9e3-d342d3a270a1"
      },
      "execution_count": 38,
      "outputs": [
        {
          "output_type": "execute_result",
          "data": {
            "text/plain": [
              "array([0.062, 0.25 , 0.375, 0.25 , 0.062])"
            ]
          },
          "metadata": {},
          "execution_count": 38
        }
      ]
    },
    {
      "cell_type": "code",
      "source": [
        "x = np.array([0, 1, 2, 3, 4])\n",
        "x"
      ],
      "metadata": {
        "colab": {
          "base_uri": "https://localhost:8080/"
        },
        "id": "GhyeMhKDqjbx",
        "outputId": "8db81696-6f81-496b-f3fb-5525b56865fe"
      },
      "execution_count": 39,
      "outputs": [
        {
          "output_type": "execute_result",
          "data": {
            "text/plain": [
              "array([0, 1, 2, 3, 4])"
            ]
          },
          "metadata": {},
          "execution_count": 39
        }
      ]
    },
    {
      "cell_type": "code",
      "source": [
        "ax = sns.barplot(x=x, y=y, color='blue')\n",
        "ax.set_ylabel('Probabilidade')\n",
        "ax.set_xlabel('Número de Caras')"
      ],
      "metadata": {
        "colab": {
          "base_uri": "https://localhost:8080/",
          "height": 296
        },
        "id": "fQ3Jqit9qZoY",
        "outputId": "34e2a1d2-0730-40e4-b0c0-1a1a37eace12"
      },
      "execution_count": 45,
      "outputs": [
        {
          "output_type": "execute_result",
          "data": {
            "text/plain": [
              "Text(0.5, 0, 'Número de Caras')"
            ]
          },
          "metadata": {},
          "execution_count": 45
        },
        {
          "output_type": "display_data",
          "data": {
            "image/png": "[encoded data removed]",
            "text/plain": [
              "<Figure size 432x288 with 1 Axes>"
            ]
          },
          "metadata": {
            "needs_background": "light"
          }
        }
      ]
    }
  ]
}